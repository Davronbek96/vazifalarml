{
 "cells": [
  {
   "cell_type": "markdown",
   "metadata": {},
   "source": [
    "# For Loop"
   ]
  },
  {
   "cell_type": "markdown",
   "metadata": {},
   "source": []
  },
  {
   "cell_type": "code",
   "execution_count": null,
   "metadata": {},
   "outputs": [],
   "source": []
  },
  {
   "cell_type": "code",
   "execution_count": null,
   "metadata": {},
   "outputs": [],
   "source": []
  },
  {
   "cell_type": "code",
   "execution_count": null,
   "metadata": {},
   "outputs": [],
   "source": []
  },
  {
   "cell_type": "code",
   "execution_count": null,
   "metadata": {},
   "outputs": [],
   "source": []
  },
  {
   "cell_type": "code",
   "execution_count": null,
   "metadata": {},
   "outputs": [],
   "source": []
  },
  {
   "cell_type": "code",
   "execution_count": null,
   "metadata": {},
   "outputs": [],
   "source": []
  },
  {
   "cell_type": "markdown",
   "metadata": {
    "vscode": {
     "languageId": "plaintext"
    }
   },
   "source": [
    "# Uyga Vazifa"
   ]
  },
  {
   "cell_type": "code",
   "execution_count": null,
   "metadata": {},
   "outputs": [],
   "source": [
    "#Berilgan 2 ta sonni o'rta arifmetigini toping \n",
    "#Berilgan 2 ta sonni o'rta geometrigini toping\n",
    "#Berilgan so'zni istalgan(so'z uzunligidan katta bo'lmagan) indexidagi so'zni ekranga chiqaring \n",
    "# Berilgan listga 3 ta so'z kiriting va u so'zni listda mavjud bo'lish yoki bo'lmasligini tekshiring\n",
    "#Ikki float son kiriting va ular orasida  4 matematik amal bajaring(*, /, //, % )\n",
    "#Foydalanuvchidan son kiritishni so'rang va u musbat, manfiy yoki 0 ekanligini aniqlang.\n",
    "#Foydalanuvchidan yoshini so'rang. Agar yosh 18 yoki undan katta bo'lsa, \"Siz voyaga yetgansiz\", aks holda \"Siz hali voyaga yetmagansiz\" deb chiqaring.\n",
    "#Foydalanuvchidan uchta son kiriting va eng kattasini aniqlang.\n",
    "#1 dan 10 gacha bo'lgan barcha  juft/ toq sonlarni ekranga chiqaring.\n",
    "#Foydalanuvchidan sonlar orasidagi oraliqni kiriting (masalan, 5 va 15), va shu oraliqdagi juft sonlarni ekranga chiqaring va ularni yigindisini toping"
   ]
  },
  {
   "cell_type": "code",
   "execution_count": null,
   "metadata": {},
   "outputs": [
    {
     "name": "stdout",
     "output_type": "stream",
     "text": [
      "1.5\n"
     ]
    }
   ],
   "source": []
  },
  {
   "cell_type": "code",
   "execution_count": null,
   "metadata": {},
   "outputs": [],
   "source": []
  }
 ],
 "metadata": {
  "kernelspec": {
   "display_name": "Python 3",
   "language": "python",
   "name": "python3"
  },
  "language_info": {
   "codemirror_mode": {
    "name": "ipython",
    "version": 3
   },
   "file_extension": ".py",
   "mimetype": "text/x-python",
   "name": "python",
   "nbconvert_exporter": "python",
   "pygments_lexer": "ipython3",
   "version": "3.12.2"
  }
 },
 "nbformat": 4,
 "nbformat_minor": 2
}
